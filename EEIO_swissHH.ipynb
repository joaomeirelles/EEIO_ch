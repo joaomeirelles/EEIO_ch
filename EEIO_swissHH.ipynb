{
 "cells": [
  {
   "cell_type": "markdown",
   "metadata": {},
   "source": [
    "# This R notebook implements a Environmentaly Extended Input-output method"
   ]
  },
  {
   "cell_type": "code",
   "execution_count": 271,
   "metadata": {},
   "outputs": [],
   "source": [
    "require(gdata) #for reading xlsx\n",
    "library(matlib) #for matrix operations\n",
    "library(ggplot2)\n",
    "library(cowplot)"
   ]
  },
  {
   "cell_type": "code",
   "execution_count": null,
   "metadata": {
    "collapsed": true
   },
   "outputs": [],
   "source": [
    "\n"
   ]
  },
  {
   "cell_type": "markdown",
   "metadata": {},
   "source": [
    "The method is based on the following equation:\n",
    "<br>\n",
    "\\begin{equation*}\n",
    "CF  = e . (I - A)^{-1} x Y\n",
    "\\end{equation*}\n",
    "<br>\n",
    "where\n",
    "<br>\n",
    "<br>\n",
    "e = vector of emissions coefficients\n",
    "<br>\n",
    "I = Identity Matrix\n",
    "<br>\n",
    "A = Coefficient Matrix\n",
    "<br>\n",
    "Y = Is the Final Demand Matrix"
   ]
  },
  {
   "cell_type": "code",
   "execution_count": null,
   "metadata": {
    "collapsed": true
   },
   "outputs": [],
   "source": []
  },
  {
   "cell_type": "markdown",
   "metadata": {},
   "source": [
    "## Preparing the data"
   ]
  },
  {
   "cell_type": "markdown",
   "metadata": {},
   "source": [
    "#### import data"
   ]
  },
  {
   "cell_type": "code",
   "execution_count": 107,
   "metadata": {},
   "outputs": [],
   "source": [
    "#iot = read.xls(\"/home/jm/Documents/PhD_EPFL/Thesis/papers/step1/urban_lca/swiss_household/data/EEIO/siot.xlsx\", sheet = 'siot', header = TRUE)\n",
    "\n",
    "iot = read.csv(\"/home/jm/Documents/PhD_EPFL/Thesis/papers/step1/urban_lca/swiss_household/data/EEIO/iot.csv\",row.names = 1, header = TRUE)"
   ]
  },
  {
   "cell_type": "code",
   "execution_count": 125,
   "metadata": {},
   "outputs": [
    {
     "data": {
      "text/html": [
       "<table>\n",
       "<thead><tr><th></th><th scope=col>code_01</th><th scope=col>code_02</th><th scope=col>code_05</th><th scope=col>code_10_14</th><th scope=col>code_15_16</th><th scope=col>code_17</th><th scope=col>code_18</th><th scope=col>code_19</th><th scope=col>code_20</th><th scope=col>code_21</th><th scope=col>⋯</th><th scope=col>code_73</th><th scope=col>code_75a</th><th scope=col>code_75b</th><th scope=col>code_80</th><th scope=col>code_85</th><th scope=col>code_90a</th><th scope=col>code_90b</th><th scope=col>code_90c</th><th scope=col>code_91_92</th><th scope=col>code_93_95</th></tr></thead>\n",
       "<tbody>\n",
       "\t<tr><th scope=row>code_01</th><td>2477.460337 </td><td>  3.85392906</td><td>0.01602814  </td><td> 0.0000000  </td><td>10057.821905</td><td> 62.9035638 </td><td>  0.4989335 </td><td>4.611849e+00</td><td>6.197472e+00</td><td>  0.07694405</td><td>⋯           </td><td>  0.70660120</td><td>  0.92588048</td><td> 68.3710948 </td><td> 47.0516862 </td><td>1.116317e+02</td><td>2.326836e-01</td><td>1.338616e-01</td><td>4.277806e+01</td><td> 42.690505  </td><td> 1.6647908  </td></tr>\n",
       "\t<tr><th scope=row>code_02</th><td>  79.391954 </td><td>446.92740117</td><td>0.00000000  </td><td> 7.6989437  </td><td>    9.027296</td><td>  0.0000000 </td><td>  0.0000000 </td><td>0.000000e+00</td><td>8.482896e+01</td><td>186.04680073</td><td>⋯           </td><td>  0.06596957</td><td>  0.05750416</td><td> 36.5847675 </td><td>  1.8202127 </td><td>6.240106e-01</td><td>0.000000e+00</td><td>0.000000e+00</td><td>2.869183e-17</td><td>  0.000000  </td><td> 0.4923350  </td></tr>\n",
       "\t<tr><th scope=row>code_05</th><td>   0.000000 </td><td>  0.00000000</td><td>0.64018855  </td><td> 0.0000000  </td><td>   16.361987</td><td>  0.0000000 </td><td>  0.0000000 </td><td>0.000000e+00</td><td>9.374471e-04</td><td>  0.00000000</td><td>⋯           </td><td>  0.03912650</td><td>  0.00000000</td><td>  0.3140933 </td><td>  0.0000000 </td><td>4.147653e+00</td><td>6.575554e-05</td><td>3.782422e-05</td><td>1.805288e-18</td><td>  1.835305  </td><td> 0.0000000  </td></tr>\n",
       "\t<tr><th scope=row>code_10_14</th><td>   7.849766 </td><td>  0.10191303</td><td>0.02042733  </td><td>18.7566769  </td><td>    8.408830</td><td>  5.4778356 </td><td>  0.3726678 </td><td>1.249832e-04</td><td>7.952613e-01</td><td> 28.35947797</td><td>⋯           </td><td>  1.83982004</td><td>178.53469814</td><td>  0.0000000 </td><td>  8.8332695 </td><td>2.518775e+01</td><td>0.000000e+00</td><td>0.000000e+00</td><td>3.090819e+00</td><td> 15.109838  </td><td> 0.7454036  </td></tr>\n",
       "\t<tr><th scope=row>code_15_16</th><td>1065.453275 </td><td>  0.36568774</td><td>1.21148560  </td><td> 0.0000000  </td><td> 6181.630622</td><td>  0.0000000 </td><td>  0.0000000 </td><td>1.943103e+01</td><td>1.106481e+00</td><td> 22.18321231</td><td>⋯           </td><td>  5.58044911</td><td>  0.23742096</td><td>142.0509477 </td><td>367.4929365 </td><td>1.251664e+03</td><td>4.267224e-02</td><td>2.454669e-02</td><td>1.672129e+00</td><td>109.746329  </td><td> 0.1061232  </td></tr>\n",
       "\t<tr><th scope=row>code_17</th><td>  10.871143 </td><td>  0.06791592</td><td>0.02631219  </td><td> 0.0000000  </td><td>   47.836351</td><td>561.0192913 </td><td>416.4783613 </td><td>2.624340e+01</td><td>2.906087e+00</td><td> 14.28560091</td><td>⋯           </td><td>  5.92263163</td><td>  7.07898311</td><td>  1.0553589 </td><td> 86.8185642 </td><td>1.055449e+02</td><td>1.361878e-02</td><td>7.833874e-03</td><td>5.440542e-01</td><td> 11.647193  </td><td> 5.8003766  </td></tr>\n",
       "\t<tr><th scope=row>code_18</th><td>  16.745101 </td><td>  0.12432720</td><td>0.02632565  </td><td> 0.9439852  </td><td>    3.610019</td><td>  0.5855857 </td><td>211.2925367 </td><td>0.000000e+00</td><td>5.202150e-02</td><td>  1.12609448</td><td>⋯           </td><td>  6.37897562</td><td> 28.64256123</td><td>  0.0000000 </td><td> 13.9780018 </td><td>2.185665e+01</td><td>2.170430e-03</td><td>1.248287e-03</td><td>2.119646e-01</td><td> 47.784658  </td><td> 0.8097245  </td></tr>\n",
       "\t<tr><th scope=row>code_19</th><td>   2.898912 </td><td>  0.01876482</td><td>0.00000000  </td><td> 2.3610857  </td><td>    9.629609</td><td>  0.1815039 </td><td>  1.5929187 </td><td>1.265019e+02</td><td>1.010626e+00</td><td>  0.86613239</td><td>⋯           </td><td>  0.01827368</td><td>  0.01249953</td><td> 11.1342320 </td><td>  0.9768781 </td><td>3.905369e-02</td><td>2.411788e-04</td><td>1.387206e-04</td><td>1.005079e+00</td><td>  9.658147  </td><td> 0.0000000  </td></tr>\n",
       "\t<tr><th scope=row>code_20</th><td>  31.642386 </td><td>  4.80098451</td><td>0.07276375  </td><td> 3.2242923  </td><td>  123.221028</td><td>  1.5740924 </td><td>  0.7509592 </td><td>5.267605e-01</td><td>3.279778e+03</td><td>401.81124730</td><td>⋯           </td><td>  3.89512949</td><td> 77.92733349</td><td>  0.0000000 </td><td> 35.7446680 </td><td>2.940759e+01</td><td>0.000000e+00</td><td>0.000000e+00</td><td>2.936095e+01</td><td> 24.972864  </td><td>27.9341718  </td></tr>\n",
       "\t<tr><th scope=row>code_21</th><td>  11.672108 </td><td>  0.13868924</td><td>0.02169995  </td><td>35.4350263  </td><td>  448.671038</td><td> 25.0858798 </td><td> 10.1691426 </td><td>6.006622e+00</td><td>3.974740e+01</td><td>982.70132418</td><td>⋯           </td><td>148.59160711</td><td>  1.70503805</td><td> 42.9148609 </td><td> 40.3202905 </td><td>4.821727e+01</td><td>5.015778e-01</td><td>3.157112e-01</td><td>6.341189e+00</td><td> 48.596817  </td><td>11.1851807  </td></tr>\n",
       "</tbody>\n",
       "</table>\n"
      ],
      "text/latex": [
       "\\begin{tabular}{r|llllllllllllllllllllllllllllllllllllllllllllllllllllllllllllllllllll}\n",
       "  & code\\_01 & code\\_02 & code\\_05 & code\\_10\\_14 & code\\_15\\_16 & code\\_17 & code\\_18 & code\\_19 & code\\_20 & code\\_21 & ⋯ & code\\_73 & code\\_75a & code\\_75b & code\\_80 & code\\_85 & code\\_90a & code\\_90b & code\\_90c & code\\_91\\_92 & code\\_93\\_95\\\\\n",
       "\\hline\n",
       "\tcode\\_01 & 2477.460337  &   3.85392906 & 0.01602814   &  0.0000000   & 10057.821905 &  62.9035638  &   0.4989335  & 4.611849e+00 & 6.197472e+00 &   0.07694405 & ⋯            &   0.70660120 &   0.92588048 &  68.3710948  &  47.0516862  & 1.116317e+02 & 2.326836e-01 & 1.338616e-01 & 4.277806e+01 &  42.690505   &  1.6647908  \\\\\n",
       "\tcode\\_02 &   79.391954  & 446.92740117 & 0.00000000   &  7.6989437   &     9.027296 &   0.0000000  &   0.0000000  & 0.000000e+00 & 8.482896e+01 & 186.04680073 & ⋯            &   0.06596957 &   0.05750416 &  36.5847675  &   1.8202127  & 6.240106e-01 & 0.000000e+00 & 0.000000e+00 & 2.869183e-17 &   0.000000   &  0.4923350  \\\\\n",
       "\tcode\\_05 &    0.000000  &   0.00000000 & 0.64018855   &  0.0000000   &    16.361987 &   0.0000000  &   0.0000000  & 0.000000e+00 & 9.374471e-04 &   0.00000000 & ⋯            &   0.03912650 &   0.00000000 &   0.3140933  &   0.0000000  & 4.147653e+00 & 6.575554e-05 & 3.782422e-05 & 1.805288e-18 &   1.835305   &  0.0000000  \\\\\n",
       "\tcode\\_10\\_14 &    7.849766  &   0.10191303 & 0.02042733   & 18.7566769   &     8.408830 &   5.4778356  &   0.3726678  & 1.249832e-04 & 7.952613e-01 &  28.35947797 & ⋯            &   1.83982004 & 178.53469814 &   0.0000000  &   8.8332695  & 2.518775e+01 & 0.000000e+00 & 0.000000e+00 & 3.090819e+00 &  15.109838   &  0.7454036  \\\\\n",
       "\tcode\\_15\\_16 & 1065.453275  &   0.36568774 & 1.21148560   &  0.0000000   &  6181.630622 &   0.0000000  &   0.0000000  & 1.943103e+01 & 1.106481e+00 &  22.18321231 & ⋯            &   5.58044911 &   0.23742096 & 142.0509477  & 367.4929365  & 1.251664e+03 & 4.267224e-02 & 2.454669e-02 & 1.672129e+00 & 109.746329   &  0.1061232  \\\\\n",
       "\tcode\\_17 &   10.871143  &   0.06791592 & 0.02631219   &  0.0000000   &    47.836351 & 561.0192913  & 416.4783613  & 2.624340e+01 & 2.906087e+00 &  14.28560091 & ⋯            &   5.92263163 &   7.07898311 &   1.0553589  &  86.8185642  & 1.055449e+02 & 1.361878e-02 & 7.833874e-03 & 5.440542e-01 &  11.647193   &  5.8003766  \\\\\n",
       "\tcode\\_18 &   16.745101  &   0.12432720 & 0.02632565   &  0.9439852   &     3.610019 &   0.5855857  & 211.2925367  & 0.000000e+00 & 5.202150e-02 &   1.12609448 & ⋯            &   6.37897562 &  28.64256123 &   0.0000000  &  13.9780018  & 2.185665e+01 & 2.170430e-03 & 1.248287e-03 & 2.119646e-01 &  47.784658   &  0.8097245  \\\\\n",
       "\tcode\\_19 &    2.898912  &   0.01876482 & 0.00000000   &  2.3610857   &     9.629609 &   0.1815039  &   1.5929187  & 1.265019e+02 & 1.010626e+00 &   0.86613239 & ⋯            &   0.01827368 &   0.01249953 &  11.1342320  &   0.9768781  & 3.905369e-02 & 2.411788e-04 & 1.387206e-04 & 1.005079e+00 &   9.658147   &  0.0000000  \\\\\n",
       "\tcode\\_20 &   31.642386  &   4.80098451 & 0.07276375   &  3.2242923   &   123.221028 &   1.5740924  &   0.7509592  & 5.267605e-01 & 3.279778e+03 & 401.81124730 & ⋯            &   3.89512949 &  77.92733349 &   0.0000000  &  35.7446680  & 2.940759e+01 & 0.000000e+00 & 0.000000e+00 & 2.936095e+01 &  24.972864   & 27.9341718  \\\\\n",
       "\tcode\\_21 &   11.672108  &   0.13868924 & 0.02169995   & 35.4350263   &   448.671038 &  25.0858798  &  10.1691426  & 6.006622e+00 & 3.974740e+01 & 982.70132418 & ⋯            & 148.59160711 &   1.70503805 &  42.9148609  &  40.3202905  & 4.821727e+01 & 5.015778e-01 & 3.157112e-01 & 6.341189e+00 &  48.596817   & 11.1851807  \\\\\n",
       "\\end{tabular}\n"
      ],
      "text/markdown": [
       "\n",
       "| <!--/--> | code_01 | code_02 | code_05 | code_10_14 | code_15_16 | code_17 | code_18 | code_19 | code_20 | code_21 | ⋯ | code_73 | code_75a | code_75b | code_80 | code_85 | code_90a | code_90b | code_90c | code_91_92 | code_93_95 | \n",
       "|---|---|---|---|---|---|---|---|---|---|\n",
       "| code_01 | 2477.460337  |   3.85392906 | 0.01602814   |  0.0000000   | 10057.821905 |  62.9035638  |   0.4989335  | 4.611849e+00 | 6.197472e+00 |   0.07694405 | ⋯            |   0.70660120 |   0.92588048 |  68.3710948  |  47.0516862  | 1.116317e+02 | 2.326836e-01 | 1.338616e-01 | 4.277806e+01 |  42.690505   |  1.6647908   | \n",
       "| code_02 |   79.391954  | 446.92740117 | 0.00000000   |  7.6989437   |     9.027296 |   0.0000000  |   0.0000000  | 0.000000e+00 | 8.482896e+01 | 186.04680073 | ⋯            |   0.06596957 |   0.05750416 |  36.5847675  |   1.8202127  | 6.240106e-01 | 0.000000e+00 | 0.000000e+00 | 2.869183e-17 |   0.000000   |  0.4923350   | \n",
       "| code_05 |    0.000000  |   0.00000000 | 0.64018855   |  0.0000000   |    16.361987 |   0.0000000  |   0.0000000  | 0.000000e+00 | 9.374471e-04 |   0.00000000 | ⋯            |   0.03912650 |   0.00000000 |   0.3140933  |   0.0000000  | 4.147653e+00 | 6.575554e-05 | 3.782422e-05 | 1.805288e-18 |   1.835305   |  0.0000000   | \n",
       "| code_10_14 |    7.849766  |   0.10191303 | 0.02042733   | 18.7566769   |     8.408830 |   5.4778356  |   0.3726678  | 1.249832e-04 | 7.952613e-01 |  28.35947797 | ⋯            |   1.83982004 | 178.53469814 |   0.0000000  |   8.8332695  | 2.518775e+01 | 0.000000e+00 | 0.000000e+00 | 3.090819e+00 |  15.109838   |  0.7454036   | \n",
       "| code_15_16 | 1065.453275  |   0.36568774 | 1.21148560   |  0.0000000   |  6181.630622 |   0.0000000  |   0.0000000  | 1.943103e+01 | 1.106481e+00 |  22.18321231 | ⋯            |   5.58044911 |   0.23742096 | 142.0509477  | 367.4929365  | 1.251664e+03 | 4.267224e-02 | 2.454669e-02 | 1.672129e+00 | 109.746329   |  0.1061232   | \n",
       "| code_17 |   10.871143  |   0.06791592 | 0.02631219   |  0.0000000   |    47.836351 | 561.0192913  | 416.4783613  | 2.624340e+01 | 2.906087e+00 |  14.28560091 | ⋯            |   5.92263163 |   7.07898311 |   1.0553589  |  86.8185642  | 1.055449e+02 | 1.361878e-02 | 7.833874e-03 | 5.440542e-01 |  11.647193   |  5.8003766   | \n",
       "| code_18 |   16.745101  |   0.12432720 | 0.02632565   |  0.9439852   |     3.610019 |   0.5855857  | 211.2925367  | 0.000000e+00 | 5.202150e-02 |   1.12609448 | ⋯            |   6.37897562 |  28.64256123 |   0.0000000  |  13.9780018  | 2.185665e+01 | 2.170430e-03 | 1.248287e-03 | 2.119646e-01 |  47.784658   |  0.8097245   | \n",
       "| code_19 |    2.898912  |   0.01876482 | 0.00000000   |  2.3610857   |     9.629609 |   0.1815039  |   1.5929187  | 1.265019e+02 | 1.010626e+00 |   0.86613239 | ⋯            |   0.01827368 |   0.01249953 |  11.1342320  |   0.9768781  | 3.905369e-02 | 2.411788e-04 | 1.387206e-04 | 1.005079e+00 |   9.658147   |  0.0000000   | \n",
       "| code_20 |   31.642386  |   4.80098451 | 0.07276375   |  3.2242923   |   123.221028 |   1.5740924  |   0.7509592  | 5.267605e-01 | 3.279778e+03 | 401.81124730 | ⋯            |   3.89512949 |  77.92733349 |   0.0000000  |  35.7446680  | 2.940759e+01 | 0.000000e+00 | 0.000000e+00 | 2.936095e+01 |  24.972864   | 27.9341718   | \n",
       "| code_21 |   11.672108  |   0.13868924 | 0.02169995   | 35.4350263   |   448.671038 |  25.0858798  |  10.1691426  | 6.006622e+00 | 3.974740e+01 | 982.70132418 | ⋯            | 148.59160711 |   1.70503805 |  42.9148609  |  40.3202905  | 4.821727e+01 | 5.015778e-01 | 3.157112e-01 | 6.341189e+00 |  48.596817   | 11.1851807   | \n",
       "\n",
       "\n"
      ],
      "text/plain": [
       "           code_01     code_02      code_05    code_10_14 code_15_16  \n",
       "code_01    2477.460337   3.85392906 0.01602814  0.0000000 10057.821905\n",
       "code_02      79.391954 446.92740117 0.00000000  7.6989437     9.027296\n",
       "code_05       0.000000   0.00000000 0.64018855  0.0000000    16.361987\n",
       "code_10_14    7.849766   0.10191303 0.02042733 18.7566769     8.408830\n",
       "code_15_16 1065.453275   0.36568774 1.21148560  0.0000000  6181.630622\n",
       "code_17      10.871143   0.06791592 0.02631219  0.0000000    47.836351\n",
       "code_18      16.745101   0.12432720 0.02632565  0.9439852     3.610019\n",
       "code_19       2.898912   0.01876482 0.00000000  2.3610857     9.629609\n",
       "code_20      31.642386   4.80098451 0.07276375  3.2242923   123.221028\n",
       "code_21      11.672108   0.13868924 0.02169995 35.4350263   448.671038\n",
       "           code_17     code_18     code_19      code_20      code_21      ⋯\n",
       "code_01     62.9035638   0.4989335 4.611849e+00 6.197472e+00   0.07694405 ⋯\n",
       "code_02      0.0000000   0.0000000 0.000000e+00 8.482896e+01 186.04680073 ⋯\n",
       "code_05      0.0000000   0.0000000 0.000000e+00 9.374471e-04   0.00000000 ⋯\n",
       "code_10_14   5.4778356   0.3726678 1.249832e-04 7.952613e-01  28.35947797 ⋯\n",
       "code_15_16   0.0000000   0.0000000 1.943103e+01 1.106481e+00  22.18321231 ⋯\n",
       "code_17    561.0192913 416.4783613 2.624340e+01 2.906087e+00  14.28560091 ⋯\n",
       "code_18      0.5855857 211.2925367 0.000000e+00 5.202150e-02   1.12609448 ⋯\n",
       "code_19      0.1815039   1.5929187 1.265019e+02 1.010626e+00   0.86613239 ⋯\n",
       "code_20      1.5740924   0.7509592 5.267605e-01 3.279778e+03 401.81124730 ⋯\n",
       "code_21     25.0858798  10.1691426 6.006622e+00 3.974740e+01 982.70132418 ⋯\n",
       "           code_73      code_75a     code_75b    code_80     code_85     \n",
       "code_01      0.70660120   0.92588048  68.3710948  47.0516862 1.116317e+02\n",
       "code_02      0.06596957   0.05750416  36.5847675   1.8202127 6.240106e-01\n",
       "code_05      0.03912650   0.00000000   0.3140933   0.0000000 4.147653e+00\n",
       "code_10_14   1.83982004 178.53469814   0.0000000   8.8332695 2.518775e+01\n",
       "code_15_16   5.58044911   0.23742096 142.0509477 367.4929365 1.251664e+03\n",
       "code_17      5.92263163   7.07898311   1.0553589  86.8185642 1.055449e+02\n",
       "code_18      6.37897562  28.64256123   0.0000000  13.9780018 2.185665e+01\n",
       "code_19      0.01827368   0.01249953  11.1342320   0.9768781 3.905369e-02\n",
       "code_20      3.89512949  77.92733349   0.0000000  35.7446680 2.940759e+01\n",
       "code_21    148.59160711   1.70503805  42.9148609  40.3202905 4.821727e+01\n",
       "           code_90a     code_90b     code_90c     code_91_92 code_93_95\n",
       "code_01    2.326836e-01 1.338616e-01 4.277806e+01  42.690505  1.6647908\n",
       "code_02    0.000000e+00 0.000000e+00 2.869183e-17   0.000000  0.4923350\n",
       "code_05    6.575554e-05 3.782422e-05 1.805288e-18   1.835305  0.0000000\n",
       "code_10_14 0.000000e+00 0.000000e+00 3.090819e+00  15.109838  0.7454036\n",
       "code_15_16 4.267224e-02 2.454669e-02 1.672129e+00 109.746329  0.1061232\n",
       "code_17    1.361878e-02 7.833874e-03 5.440542e-01  11.647193  5.8003766\n",
       "code_18    2.170430e-03 1.248287e-03 2.119646e-01  47.784658  0.8097245\n",
       "code_19    2.411788e-04 1.387206e-04 1.005079e+00   9.658147  0.0000000\n",
       "code_20    0.000000e+00 0.000000e+00 2.936095e+01  24.972864 27.9341718\n",
       "code_21    5.015778e-01 3.157112e-01 6.341189e+00  48.596817 11.1851807"
      ]
     },
     "metadata": {},
     "output_type": "display_data"
    }
   ],
   "source": [
    "head(iot, 10)"
   ]
  },
  {
   "cell_type": "code",
   "execution_count": null,
   "metadata": {},
   "outputs": [],
   "source": []
  },
  {
   "cell_type": "code",
   "execution_count": 39,
   "metadata": {},
   "outputs": [
    {
     "name": "stderr",
     "output_type": "stream",
     "text": [
      "Warning message:\n",
      "“running command ''/usr/bin/perl' '/home/jm/R/x86_64-pc-linux-gnu-library/3.4/gdata/perl/xls2csv.pl'  '/home/jm/Documents/PhD_EPFL/Thesis/papers/step1/urban_lca/swiss_household/data/EEIO/NAMEA_air.xlsx' '/tmp/RtmpsndDXb/file47df3384b0db.csv' 'Emissions_2008'' had status 2”"
     ]
    },
    {
     "ename": "ERROR",
     "evalue": "Error in xls2sep(xls, sheet, verbose = verbose, ..., method = method, : Intermediate file '/tmp/RtmpsndDXb/file47df3384b0db.csv' missing!\n",
     "output_type": "error",
     "traceback": [
      "Error in xls2sep(xls, sheet, verbose = verbose, ..., method = method, : Intermediate file '/tmp/RtmpsndDXb/file47df3384b0db.csv' missing!\nTraceback:\n",
      "1. read.xls(\"/home/jm/Documents/PhD_EPFL/Thesis/papers/step1/urban_lca/swiss_household/data/EEIO/NAMEA_air.xlsx\", \n .     sheet = \"Emissions_2008\", header = TRUE)",
      "2. xls2sep(xls, sheet, verbose = verbose, ..., method = method, \n .     perl = perl)",
      "3. stop(\"Intermediate file '\", targetFile, \"' missing!\")"
     ]
    },
    {
     "ename": "ERROR",
     "evalue": "Error in file.exists(tfn): invalid 'file' argument\n",
     "output_type": "error",
     "traceback": [
      "Error in file.exists(tfn): invalid 'file' argument\nTraceback:\n",
      "1. read.xls(\"/home/jm/Documents/PhD_EPFL/Thesis/papers/step1/urban_lca/swiss_household/data/EEIO/NAMEA_air.xlsx\", \n .     sheet = \"Emissions_2008\", header = TRUE)",
      "2. file.exists(tfn)"
     ]
    }
   ],
   "source": [
    "namea = read.xls(\"/home/jm/Documents/PhD_EPFL/Thesis/papers/step1/urban_lca/swiss_household/data/EEIO/NAMEA_air.xlsx\", sheet = 'Emissions_2008', header = TRUE)"
   ]
  },
  {
   "cell_type": "code",
   "execution_count": null,
   "metadata": {
    "collapsed": true
   },
   "outputs": [],
   "source": []
  },
  {
   "cell_type": "markdown",
   "metadata": {},
   "source": [
    "#### e\n",
    "\n",
    "e is calculated by dividing the vector[total output] by the vector[total emission] for each activity\n",
    "\n",
    "vector[total output] comes from the IOT table. We need to define if it's better to use \"Output at basic prices\" or \"Supply at basic prices\""
   ]
  },
  {
   "cell_type": "code",
   "execution_count": 240,
   "metadata": {},
   "outputs": [],
   "source": [
    "emission_factor = read.csv(\"/home/jm/Documents/PhD_EPFL/Thesis/papers/step1/urban_lca/swiss_household/data/EEIO/emission_factors.csv\",row.names = 1, header = TRUE)"
   ]
  },
  {
   "cell_type": "code",
   "execution_count": null,
   "metadata": {},
   "outputs": [],
   "source": []
  },
  {
   "cell_type": "code",
   "execution_count": null,
   "metadata": {},
   "outputs": [],
   "source": []
  },
  {
   "cell_type": "code",
   "execution_count": null,
   "metadata": {
    "collapsed": true
   },
   "outputs": [],
   "source": []
  },
  {
   "cell_type": "markdown",
   "metadata": {},
   "source": [
    "#### A\n",
    "\n",
    "A is calculated from the IO table, but it needs tp be normalized, calculating the transfer coefficients"
   ]
  },
  {
   "cell_type": "code",
   "execution_count": null,
   "metadata": {
    "collapsed": true
   },
   "outputs": [],
   "source": [
    "iot = read.csv(\"/home/jm/Documents/PhD_EPFL/Thesis/papers/step1/urban_lca/swiss_household/data/EEIO/iot.csv\",row.names = 1, header = TRUE)"
   ]
  },
  {
   "cell_type": "code",
   "execution_count": 225,
   "metadata": {},
   "outputs": [],
   "source": [
    "iot_tc <- iot\n",
    "total_imput <- colSums(iot_tc)\n",
    "\n",
    "for (activity in names(total_imput)){\n",
    "  for (row in 1:nrow(iot_tc)){\n",
    "     \n",
    "      if (total_imput[row] != 0){\n",
    "      \n",
    "      iot_tc[row,activity] <- iot_tc[row,activity] / total_imput[row]\n",
    "    \n",
    "      } else {\n",
    "         \n",
    "          iot_tc[row,activity] <- 0\n",
    "          \n",
    "      }\n",
    " \n",
    "}}\n",
    "\n",
    "#iot_tc <- na.omit(iot_tc) #check where are the NAs\n"
   ]
  },
  {
   "cell_type": "code",
   "execution_count": null,
   "metadata": {},
   "outputs": [],
   "source": [
    "\n"
   ]
  },
  {
   "cell_type": "code",
   "execution_count": null,
   "metadata": {},
   "outputs": [],
   "source": []
  },
  {
   "cell_type": "markdown",
   "metadata": {},
   "source": [
    "#### Y\n",
    "\n",
    "Y can be a final demand matrix or a final demand vector"
   ]
  },
  {
   "cell_type": "code",
   "execution_count": 141,
   "metadata": {
    "collapsed": true
   },
   "outputs": [],
   "source": [
    "final_demand = read.csv(\"/home/jm/Documents/PhD_EPFL/Thesis/papers/step1/urban_lca/swiss_household/data/EEIO/final_demand.csv\",row.names = 1, header = TRUE)"
   ]
  },
  {
   "cell_type": "code",
   "execution_count": 142,
   "metadata": {},
   "outputs": [
    {
     "data": {
      "text/html": [
       "<table>\n",
       "<thead><tr><th></th><th scope=col>COICOP.01</th><th scope=col>COICOP.02</th><th scope=col>COICOP.03</th><th scope=col>COICOP.04</th><th scope=col>COICOP.05</th><th scope=col>COICOP.06</th><th scope=col>COICOP.07</th><th scope=col>COICOP.08</th><th scope=col>COICOP.09</th><th scope=col>COICOP.10</th><th scope=col>COICOP.11</th><th scope=col>COICOP.12</th></tr></thead>\n",
       "<tbody>\n",
       "\t<tr><th scope=row>01</th><td> 3743.43927</td><td>   0.000   </td><td>  0.0000   </td><td>118.5029187</td><td> 42.7984   </td><td>0          </td><td>0          </td><td>0          </td><td>298.1423   </td><td>0          </td><td>0          </td><td>0          </td></tr>\n",
       "\t<tr><th scope=row>02</th><td>    0.00000</td><td>   0.000   </td><td>  0.0000   </td><td>106.8744198</td><td>  0.0000   </td><td>0          </td><td>0          </td><td>0          </td><td>  0.0000   </td><td>0          </td><td>0          </td><td>0          </td></tr>\n",
       "\t<tr><th scope=row>05</th><td>  111.96571</td><td>   0.000   </td><td>  0.0000   </td><td>  0.0000000</td><td>  0.0000   </td><td>0          </td><td>0          </td><td>0          </td><td>  0.0000   </td><td>0          </td><td>0          </td><td>0          </td></tr>\n",
       "\t<tr><th scope=row>10-14</th><td>   26.50658</td><td>   0.000   </td><td>  0.0000   </td><td>  0.3442643</td><td>  0.0000   </td><td>0          </td><td>0          </td><td>0          </td><td>188.2729   </td><td>0          </td><td>0          </td><td>0          </td></tr>\n",
       "\t<tr><th scope=row>15-16</th><td>16689.44892</td><td>4143.319   </td><td>  0.0000   </td><td>  0.0000000</td><td>  0.0000   </td><td>0          </td><td>0          </td><td>0          </td><td>405.2686   </td><td>0          </td><td>0          </td><td>0          </td></tr>\n",
       "\t<tr><th scope=row>17</th><td>    0.00000</td><td>   0.000   </td><td>106.6438   </td><td>  0.0000000</td><td>964.0370   </td><td>0          </td><td>0          </td><td>0          </td><td>135.3764   </td><td>0          </td><td>0          </td><td>0          </td></tr>\n",
       "</tbody>\n",
       "</table>\n"
      ],
      "text/latex": [
       "\\begin{tabular}{r|llllllllllll}\n",
       "  & COICOP.01 & COICOP.02 & COICOP.03 & COICOP.04 & COICOP.05 & COICOP.06 & COICOP.07 & COICOP.08 & COICOP.09 & COICOP.10 & COICOP.11 & COICOP.12\\\\\n",
       "\\hline\n",
       "\t01 &  3743.43927 &    0.000    &   0.0000    & 118.5029187 &  42.7984    & 0           & 0           & 0           & 298.1423    & 0           & 0           & 0          \\\\\n",
       "\t02 &     0.00000 &    0.000    &   0.0000    & 106.8744198 &   0.0000    & 0           & 0           & 0           &   0.0000    & 0           & 0           & 0          \\\\\n",
       "\t05 &   111.96571 &    0.000    &   0.0000    &   0.0000000 &   0.0000    & 0           & 0           & 0           &   0.0000    & 0           & 0           & 0          \\\\\n",
       "\t10-14 &    26.50658 &    0.000    &   0.0000    &   0.3442643 &   0.0000    & 0           & 0           & 0           & 188.2729    & 0           & 0           & 0          \\\\\n",
       "\t15-16 & 16689.44892 & 4143.319    &   0.0000    &   0.0000000 &   0.0000    & 0           & 0           & 0           & 405.2686    & 0           & 0           & 0          \\\\\n",
       "\t17 &     0.00000 &    0.000    & 106.6438    &   0.0000000 & 964.0370    & 0           & 0           & 0           & 135.3764    & 0           & 0           & 0          \\\\\n",
       "\\end{tabular}\n"
      ],
      "text/markdown": [
       "\n",
       "| <!--/--> | COICOP.01 | COICOP.02 | COICOP.03 | COICOP.04 | COICOP.05 | COICOP.06 | COICOP.07 | COICOP.08 | COICOP.09 | COICOP.10 | COICOP.11 | COICOP.12 | \n",
       "|---|---|---|---|---|---|\n",
       "| 01 |  3743.43927 |    0.000    |   0.0000    | 118.5029187 |  42.7984    | 0           | 0           | 0           | 298.1423    | 0           | 0           | 0           | \n",
       "| 02 |     0.00000 |    0.000    |   0.0000    | 106.8744198 |   0.0000    | 0           | 0           | 0           |   0.0000    | 0           | 0           | 0           | \n",
       "| 05 |   111.96571 |    0.000    |   0.0000    |   0.0000000 |   0.0000    | 0           | 0           | 0           |   0.0000    | 0           | 0           | 0           | \n",
       "| 10-14 |    26.50658 |    0.000    |   0.0000    |   0.3442643 |   0.0000    | 0           | 0           | 0           | 188.2729    | 0           | 0           | 0           | \n",
       "| 15-16 | 16689.44892 | 4143.319    |   0.0000    |   0.0000000 |   0.0000    | 0           | 0           | 0           | 405.2686    | 0           | 0           | 0           | \n",
       "| 17 |     0.00000 |    0.000    | 106.6438    |   0.0000000 | 964.0370    | 0           | 0           | 0           | 135.3764    | 0           | 0           | 0           | \n",
       "\n",
       "\n"
      ],
      "text/plain": [
       "      COICOP.01   COICOP.02 COICOP.03 COICOP.04   COICOP.05 COICOP.06 COICOP.07\n",
       "01     3743.43927    0.000    0.0000  118.5029187  42.7984  0         0        \n",
       "02        0.00000    0.000    0.0000  106.8744198   0.0000  0         0        \n",
       "05      111.96571    0.000    0.0000    0.0000000   0.0000  0         0        \n",
       "10-14    26.50658    0.000    0.0000    0.3442643   0.0000  0         0        \n",
       "15-16 16689.44892 4143.319    0.0000    0.0000000   0.0000  0         0        \n",
       "17        0.00000    0.000  106.6438    0.0000000 964.0370  0         0        \n",
       "      COICOP.08 COICOP.09 COICOP.10 COICOP.11 COICOP.12\n",
       "01    0         298.1423  0         0         0        \n",
       "02    0           0.0000  0         0         0        \n",
       "05    0           0.0000  0         0         0        \n",
       "10-14 0         188.2729  0         0         0        \n",
       "15-16 0         405.2686  0         0         0        \n",
       "17    0         135.3764  0         0         0        "
      ]
     },
     "metadata": {},
     "output_type": "display_data"
    }
   ],
   "source": [
    "head(final_demand)"
   ]
  },
  {
   "cell_type": "code",
   "execution_count": null,
   "metadata": {
    "collapsed": true
   },
   "outputs": [],
   "source": []
  },
  {
   "cell_type": "code",
   "execution_count": null,
   "metadata": {},
   "outputs": [],
   "source": []
  },
  {
   "cell_type": "markdown",
   "metadata": {},
   "source": [
    "## Calculation"
   ]
  },
  {
   "cell_type": "code",
   "execution_count": 247,
   "metadata": {},
   "outputs": [],
   "source": [
    "A <- data.matrix(iot_tc, rownames.force = NA)\n",
    "I <- diag(nrow(iot_tc))\n",
    "\n",
    "Y <- data.matrix(final_demand, rownames.force = NA)\n",
    "e <- emission_factor$emission_factor"
   ]
  },
  {
   "cell_type": "code",
   "execution_count": 255,
   "metadata": {
    "scrolled": true
   },
   "outputs": [
    {
     "data": {
      "text/html": [
       "<table>\n",
       "<thead><tr><th scope=col>COICOP.01</th><th scope=col>COICOP.02</th><th scope=col>COICOP.03</th><th scope=col>COICOP.04</th><th scope=col>COICOP.05</th><th scope=col>COICOP.06</th><th scope=col>COICOP.07</th><th scope=col>COICOP.08</th><th scope=col>COICOP.09</th><th scope=col>COICOP.10</th><th scope=col>COICOP.11</th><th scope=col>COICOP.12</th></tr></thead>\n",
       "<tbody>\n",
       "\t<tr><td>313377629</td><td>79057313 </td><td>62552826 </td><td>511318156</td><td>82306963 </td><td>316284833</td><td>54362438 </td><td>39489546 </td><td>111431181</td><td>3183622  </td><td>96408238 </td><td>281843543</td></tr>\n",
       "</tbody>\n",
       "</table>\n"
      ],
      "text/latex": [
       "\\begin{tabular}{llllllllllll}\n",
       " COICOP.01 & COICOP.02 & COICOP.03 & COICOP.04 & COICOP.05 & COICOP.06 & COICOP.07 & COICOP.08 & COICOP.09 & COICOP.10 & COICOP.11 & COICOP.12\\\\\n",
       "\\hline\n",
       "\t 313377629 & 79057313  & 62552826  & 511318156 & 82306963  & 316284833 & 54362438  & 39489546  & 111431181 & 3183622   & 96408238  & 281843543\\\\\n",
       "\\end{tabular}\n"
      ],
      "text/markdown": [
       "\n",
       "COICOP.01 | COICOP.02 | COICOP.03 | COICOP.04 | COICOP.05 | COICOP.06 | COICOP.07 | COICOP.08 | COICOP.09 | COICOP.10 | COICOP.11 | COICOP.12 | \n",
       "|---|\n",
       "| 313377629 | 79057313  | 62552826  | 511318156 | 82306963  | 316284833 | 54362438  | 39489546  | 111431181 | 3183622   | 96408238  | 281843543 | \n",
       "\n",
       "\n"
      ],
      "text/plain": [
       "     COICOP.01 COICOP.02 COICOP.03 COICOP.04 COICOP.05 COICOP.06 COICOP.07\n",
       "[1,] 313377629 79057313  62552826  511318156 82306963  316284833 54362438 \n",
       "     COICOP.08 COICOP.09 COICOP.10 COICOP.11 COICOP.12\n",
       "[1,] 39489546  111431181 3183622   96408238  281843543"
      ]
     },
     "metadata": {},
     "output_type": "display_data"
    }
   ],
   "source": [
    "cf = e %*% inv(I - A) %*% Y # solve( also calculates the inverse)\n",
    "\n",
    "cf"
   ]
  },
  {
   "cell_type": "code",
   "execution_count": null,
   "metadata": {
    "collapsed": true
   },
   "outputs": [],
   "source": []
  },
  {
   "cell_type": "markdown",
   "metadata": {},
   "source": [
    "#### plot results"
   ]
  },
  {
   "cell_type": "code",
   "execution_count": 261,
   "metadata": {
    "scrolled": true
   },
   "outputs": [
    {
     "data": {
      "text/html": [
       "<table>\n",
       "<thead><tr><th scope=col>id</th><th scope=col>index</th><th scope=col>value</th></tr></thead>\n",
       "<tbody>\n",
       "\t<tr><td>1        </td><td> 1       </td><td>313377629</td></tr>\n",
       "\t<tr><td>1        </td><td> 2       </td><td> 79057313</td></tr>\n",
       "\t<tr><td>1        </td><td> 3       </td><td> 62552826</td></tr>\n",
       "\t<tr><td>1        </td><td> 4       </td><td>511318156</td></tr>\n",
       "\t<tr><td>1        </td><td> 5       </td><td> 82306963</td></tr>\n",
       "\t<tr><td>1        </td><td> 6       </td><td>316284833</td></tr>\n",
       "\t<tr><td>1        </td><td> 7       </td><td> 54362438</td></tr>\n",
       "\t<tr><td>1        </td><td> 8       </td><td> 39489546</td></tr>\n",
       "\t<tr><td>1        </td><td> 9       </td><td>111431181</td></tr>\n",
       "\t<tr><td>1        </td><td>10       </td><td>  3183622</td></tr>\n",
       "\t<tr><td>1        </td><td>11       </td><td> 96408238</td></tr>\n",
       "\t<tr><td>1        </td><td>12       </td><td>281843543</td></tr>\n",
       "</tbody>\n",
       "</table>\n"
      ],
      "text/latex": [
       "\\begin{tabular}{r|lll}\n",
       " id & index & value\\\\\n",
       "\\hline\n",
       "\t 1         &  1        & 313377629\\\\\n",
       "\t 1         &  2        &  79057313\\\\\n",
       "\t 1         &  3        &  62552826\\\\\n",
       "\t 1         &  4        & 511318156\\\\\n",
       "\t 1         &  5        &  82306963\\\\\n",
       "\t 1         &  6        & 316284833\\\\\n",
       "\t 1         &  7        &  54362438\\\\\n",
       "\t 1         &  8        &  39489546\\\\\n",
       "\t 1         &  9        & 111431181\\\\\n",
       "\t 1         & 10        &   3183622\\\\\n",
       "\t 1         & 11        &  96408238\\\\\n",
       "\t 1         & 12        & 281843543\\\\\n",
       "\\end{tabular}\n"
      ],
      "text/markdown": [
       "\n",
       "id | index | value | \n",
       "|---|---|---|---|---|---|---|---|---|---|---|---|\n",
       "| 1         |  1        | 313377629 | \n",
       "| 1         |  2        |  79057313 | \n",
       "| 1         |  3        |  62552826 | \n",
       "| 1         |  4        | 511318156 | \n",
       "| 1         |  5        |  82306963 | \n",
       "| 1         |  6        | 316284833 | \n",
       "| 1         |  7        |  54362438 | \n",
       "| 1         |  8        |  39489546 | \n",
       "| 1         |  9        | 111431181 | \n",
       "| 1         | 10        |   3183622 | \n",
       "| 1         | 11        |  96408238 | \n",
       "| 1         | 12        | 281843543 | \n",
       "\n",
       "\n"
      ],
      "text/plain": [
       "   id index value    \n",
       "1  1   1    313377629\n",
       "2  1   2     79057313\n",
       "3  1   3     62552826\n",
       "4  1   4    511318156\n",
       "5  1   5     82306963\n",
       "6  1   6    316284833\n",
       "7  1   7     54362438\n",
       "8  1   8     39489546\n",
       "9  1   9    111431181\n",
       "10 1  10      3183622\n",
       "11 1  11     96408238\n",
       "12 1  12    281843543"
      ]
     },
     "metadata": {},
     "output_type": "display_data"
    }
   ],
   "source": [
    "df_cf = data.frame(id = 1:nrow(cf), index = rep(1:ncol(cf), each = nrow(cf)), value = as.vector(cf))\n",
    "df_cf"
   ]
  },
  {
   "cell_type": "code",
   "execution_count": 277,
   "metadata": {
    "scrolled": false
   },
   "outputs": [
    {
     "data": {},
     "metadata": {},
     "output_type": "display_data"
    },
    {
     "data": {
      "image/png": "[encoded data removed]",
      "text/plain": [
       "plot without title"
      ]
     },
     "metadata": {},
     "output_type": "display_data"
    }
   ],
   "source": [
    "options(repr.plot.width=6, repr.plot.height=5)\n",
    "\n",
    "ggplot(data=df_cf, aes(x=index, y=value, fill=log(1/value))) + geom_bar(stat=\"identity\") +\n",
    "    ylab('CF') + xlab('COICOP')+ guides(fill=FALSE)"
   ]
  },
  {
   "cell_type": "code",
   "execution_count": null,
   "metadata": {
    "collapsed": true
   },
   "outputs": [],
   "source": []
  },
  {
   "cell_type": "code",
   "execution_count": null,
   "metadata": {
    "collapsed": true
   },
   "outputs": [],
   "source": []
  },
  {
   "cell_type": "code",
   "execution_count": null,
   "metadata": {
    "collapsed": true
   },
   "outputs": [],
   "source": []
  },
  {
   "cell_type": "code",
   "execution_count": null,
   "metadata": {
    "collapsed": true
   },
   "outputs": [],
   "source": []
  },
  {
   "cell_type": "code",
   "execution_count": null,
   "metadata": {
    "collapsed": true
   },
   "outputs": [],
   "source": []
  },
  {
   "cell_type": "code",
   "execution_count": null,
   "metadata": {
    "collapsed": true
   },
   "outputs": [],
   "source": []
  },
  {
   "cell_type": "code",
   "execution_count": null,
   "metadata": {
    "collapsed": true
   },
   "outputs": [],
   "source": []
  },
  {
   "cell_type": "code",
   "execution_count": null,
   "metadata": {},
   "outputs": [],
   "source": []
  },
  {
   "cell_type": "code",
   "execution_count": null,
   "metadata": {
    "collapsed": true
   },
   "outputs": [],
   "source": []
  },
  {
   "cell_type": "code",
   "execution_count": null,
   "metadata": {
    "collapsed": true
   },
   "outputs": [],
   "source": []
  },
  {
   "cell_type": "code",
   "execution_count": null,
   "metadata": {
    "collapsed": true
   },
   "outputs": [],
   "source": []
  },
  {
   "cell_type": "code",
   "execution_count": null,
   "metadata": {
    "collapsed": true
   },
   "outputs": [],
   "source": []
  },
  {
   "cell_type": "code",
   "execution_count": null,
   "metadata": {
    "collapsed": true
   },
   "outputs": [],
   "source": []
  },
  {
   "cell_type": "code",
   "execution_count": null,
   "metadata": {
    "collapsed": true
   },
   "outputs": [],
   "source": []
  },
  {
   "cell_type": "code",
   "execution_count": null,
   "metadata": {
    "collapsed": true
   },
   "outputs": [],
   "source": []
  },
  {
   "cell_type": "code",
   "execution_count": null,
   "metadata": {
    "collapsed": true
   },
   "outputs": [],
   "source": []
  }
 ],
 "metadata": {
  "kernelspec": {
   "display_name": "R",
   "language": "R",
   "name": "ir"
  },
  "language_info": {
   "codemirror_mode": "r",
   "file_extension": ".r",
   "mimetype": "text/x-r-source",
   "name": "R",
   "pygments_lexer": "r",
   "version": "3.4.0"
  }
 },
 "nbformat": 4,
 "nbformat_minor": 1
}
